{
 "cells": [
  {
   "cell_type": "code",
   "execution_count": 1,
   "metadata": {},
   "outputs": [],
   "source": [
    "import os\n",
    "import numpy as np\n",
    "import PIL\n",
    "from sklearn.preprocessing import StandardScaler\n",
    "from sklearn.decomposition import PCA\n",
    "import pickle"
   ]
  },
  {
   "cell_type": "code",
   "execution_count": 2,
   "metadata": {},
   "outputs": [],
   "source": [
    "# Train Parent Path\n",
    "train_path='./asl_alphabet_train/'"
   ]
  },
  {
   "cell_type": "code",
   "execution_count": 3,
   "metadata": {},
   "outputs": [],
   "source": [
    "def load_img(path):\n",
    "    render=PIL.Image.open(path)\n",
    "    render=render.convert('L')\n",
    "    return np.asarray(render)"
   ]
  },
  {
   "cell_type": "code",
   "execution_count": 4,
   "metadata": {},
   "outputs": [],
   "source": [
    "with open('pca.pkl', 'rb') as fin:\n",
    "    pca = pickle.load(fin)"
   ]
  },
  {
   "cell_type": "code",
   "execution_count": 5,
   "metadata": {
    "scrolled": true
   },
   "outputs": [
    {
     "name": "stdout",
     "output_type": "stream",
     "text": [
      "Completed for  space   (3000, 224)\n",
      "Completed for  D   (3000, 224)\n",
      "Completed for  T   (3000, 224)\n",
      "Completed for  L   (3000, 224)\n",
      "Completed for  I   (3000, 224)\n",
      "Completed for  U   (3000, 224)\n",
      "Completed for  del   (3000, 224)\n",
      "Completed for  nothing   (3000, 224)\n",
      "Completed for  A   (3000, 224)\n",
      "Completed for  E   (3000, 224)\n",
      "Completed for  V   (3000, 224)\n",
      "Completed for  O   (3000, 224)\n",
      "Completed for  M   (3000, 224)\n",
      "Completed for  H   (3000, 224)\n",
      "Completed for  F   (3000, 224)\n",
      "Completed for  B   (3000, 224)\n",
      "Completed for  P   (3000, 224)\n",
      "Completed for  G   (3000, 224)\n",
      "Completed for  N   (3000, 224)\n",
      "Completed for  S   (3000, 224)\n",
      "Completed for  J   (3000, 224)\n",
      "Completed for  Z   (3000, 224)\n",
      "Completed for  R   (3000, 224)\n",
      "Completed for  C   (3000, 224)\n",
      "Completed for  X   (3000, 224)\n",
      "Completed for  K   (3000, 224)\n",
      "Completed for  W   (3000, 224)\n",
      "Completed for  Q   (3000, 224)\n",
      "Completed for  Y   (3000, 224)\n"
     ]
    }
   ],
   "source": [
    "for label in os.listdir(train_path):\n",
    "    current_images=[]\n",
    "    for path in os.listdir(train_path+label):\n",
    "        current_images.append(load_img(train_path+label+'/'+path))\n",
    "    current_images=np.asarray(current_images)\n",
    "    current_images=current_images.reshape(current_images.shape[0],200*200)\n",
    "    current_images=pca.transform(current_images)\n",
    "    np.save('pca_outputs/'+label+'_pca',current_images)\n",
    "    print('Completed for ',label,' ',current_images.shape)"
   ]
  }
 ],
 "metadata": {
  "kernelspec": {
   "display_name": "Python 3",
   "language": "python",
   "name": "python3"
  },
  "language_info": {
   "codemirror_mode": {
    "name": "ipython",
    "version": 3
   },
   "file_extension": ".py",
   "mimetype": "text/x-python",
   "name": "python",
   "nbconvert_exporter": "python",
   "pygments_lexer": "ipython3",
   "version": "3.6.5"
  }
 },
 "nbformat": 4,
 "nbformat_minor": 2
}
