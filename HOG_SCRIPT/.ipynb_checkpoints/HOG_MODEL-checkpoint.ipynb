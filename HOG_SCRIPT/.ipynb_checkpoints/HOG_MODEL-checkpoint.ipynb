{
 "cells": [
  {
   "cell_type": "code",
   "execution_count": 1,
   "metadata": {},
   "outputs": [],
   "source": [
    "import time\n",
    "import pandas as pd\n",
    "\n",
    "from sklearn.svm import SVC\n",
    "from sklearn.naive_bayes import GaussianNB as nb\n",
    "from sklearn.neighbors import KNeighborsClassifier as knn\n",
    "from sklearn.linear_model import LogisticRegression as lr\n",
    "from sklearn.neural_network import MLPClassifier as mlp\n",
    "from sklearn.model_selection import train_test_split\n",
    "import numpy as np\n",
    "import pickle\n",
    "import sklearn.metrics as sm\n",
    "from sklearn.metrics import classification_report,confusion_matrix\n"
   ]
  },
  {
   "cell_type": "code",
   "execution_count": 2,
   "metadata": {},
   "outputs": [],
   "source": [
    "def calc_accuracy(method,label_test,pred):\n",
    "    print(\"accuracy score for \",method,sm.accuracy_score(label_test,pred))\n",
    "    print(\"precision_score for \",method,sm.precision_score(label_test,pred,average='macro'))\n",
    "    print(\"f1 score for \",method,sm.f1_score(label_test,pred,average='macro'))\n",
    "    print(\"recall score for \",method,sm.recall_score(label_test,pred,average='macro'))"
   ]
  },
  {
   "cell_type": "code",
   "execution_count": 3,
   "metadata": {},
   "outputs": [],
   "source": [
    "def predict_svm(X_train, X_test, y_train, y_test):\n",
    "    svc=SVC(kernel='linear') \n",
    "    print(\"svm started\")\n",
    "    svc.fit(X_train,y_train)\n",
    "    \n",
    "    #filename = 'svm_model.sav'\n",
    "    #pickle.dump(svc, open(filename, 'wb'))\n",
    "    \n",
    "    y_pred=svc.predict(X_test)\n",
    "    calc_accuracy(\"SVM\",y_test,y_pred)"
   ]
  },
  {
   "cell_type": "code",
   "execution_count": 4,
   "metadata": {},
   "outputs": [],
   "source": [
    "def predict_lr(X_train, X_test, y_train, y_test):\n",
    "    clf = lr()\n",
    "    print(\"lr started\")\n",
    "    clf.fit(X_train,y_train)\n",
    "    \n",
    "    #filename = 'lr_model.sav'\n",
    "    #pickle.dump(clf, open(filename, 'wb'))\n",
    "    \n",
    "    y_pred=clf.predict(X_test)\n",
    "    calc_accuracy(\"Logistic regression\",y_test,y_pred)"
   ]
  },
  {
   "cell_type": "code",
   "execution_count": 5,
   "metadata": {},
   "outputs": [],
   "source": [
    "def predict_nb(X_train, X_test, y_train, y_test):\n",
    "    clf = nb()\n",
    "    print(\"nb started\")\n",
    "    clf.fit(X_train,y_train)\n",
    "    \n",
    "    #filename = 'nb_model.sav'\n",
    "    #pickle.dump(clf, open(filename, 'wb'))\n",
    "    \n",
    "    y_pred=clf.predict(X_test)\n",
    "    calc_accuracy(\"Naive Bayes\",y_test,y_pred)"
   ]
  },
  {
   "cell_type": "code",
   "execution_count": 6,
   "metadata": {},
   "outputs": [],
   "source": [
    "def predict_knn(X_train, X_test, y_train, y_test):\n",
    "    clf=knn(n_neighbors=8)\n",
    "    print(\"knn started\")\n",
    "    clf.fit(X_train,y_train)\n",
    "    \n",
    "    #filename = 'knn_model.sav'\n",
    "    #pickle.dump(clf, open(filename, 'wb'))\n",
    "    \n",
    "    y_pred=clf.predict(X_test)\n",
    "    calc_accuracy(\"K nearest neighbours\",y_test,y_pred)"
   ]
  },
  {
   "cell_type": "code",
   "execution_count": 7,
   "metadata": {},
   "outputs": [],
   "source": [
    "def predict_mlp(X_train, X_test, y_train, y_test):\n",
    "    clf=mlp()\n",
    "    print(\"mlp started\")\n",
    "    clf.fit(X_train,y_train)\n",
    "    \n",
    "    #filename = 'mlp_model.sav'\n",
    "    #pickle.dump(clf, open(filename, 'wb'))\n",
    "    \n",
    "    y_pred=clf.predict(X_test)\n",
    "    calc_accuracy(\"MLP classifier\",y_test,y_pred)\n"
   ]
  },
  {
   "cell_type": "code",
   "execution_count": 8,
   "metadata": {},
   "outputs": [],
   "source": [
    "df = pd.read_csv(r\"C:\\Users\\98anm\\Desktop\\ANMOL\\DATA SCIENCE 2\\PYTHON1\\Python-Data-Science-and-Machine-Learning-Bootcamp\\asl\\ASsL_HOG.csv\", sep=',',header=None)\n",
    "X = df.iloc[:, :-1]\n",
    "y = df.iloc[:,-1]\n",
    "\n",
    "X_train, X_test, y_train, y_test = train_test_split(X, y, test_size=0.45)"
   ]
  },
  {
   "cell_type": "code",
   "execution_count": 9,
   "metadata": {},
   "outputs": [
    {
     "data": {
      "text/html": [
       "<div>\n",
       "<style>\n",
       "    .dataframe thead tr:only-child th {\n",
       "        text-align: right;\n",
       "    }\n",
       "\n",
       "    .dataframe thead th {\n",
       "        text-align: left;\n",
       "    }\n",
       "\n",
       "    .dataframe tbody tr th {\n",
       "        vertical-align: top;\n",
       "    }\n",
       "</style>\n",
       "<table border=\"1\" class=\"dataframe\">\n",
       "  <thead>\n",
       "    <tr style=\"text-align: right;\">\n",
       "      <th></th>\n",
       "      <th>0</th>\n",
       "      <th>1</th>\n",
       "      <th>2</th>\n",
       "      <th>3</th>\n",
       "      <th>4</th>\n",
       "      <th>5</th>\n",
       "      <th>6</th>\n",
       "      <th>7</th>\n",
       "      <th>8</th>\n",
       "      <th>9</th>\n",
       "      <th>...</th>\n",
       "      <th>491</th>\n",
       "      <th>492</th>\n",
       "      <th>493</th>\n",
       "      <th>494</th>\n",
       "      <th>495</th>\n",
       "      <th>496</th>\n",
       "      <th>497</th>\n",
       "      <th>498</th>\n",
       "      <th>499</th>\n",
       "      <th>500</th>\n",
       "    </tr>\n",
       "  </thead>\n",
       "  <tbody>\n",
       "    <tr>\n",
       "      <th>0</th>\n",
       "      <td>0.438496</td>\n",
       "      <td>0.312646</td>\n",
       "      <td>0.484813</td>\n",
       "      <td>0.484813</td>\n",
       "      <td>0.484813</td>\n",
       "      <td>0.473982</td>\n",
       "      <td>0.310852</td>\n",
       "      <td>0.473982</td>\n",
       "      <td>0.473982</td>\n",
       "      <td>0.473982</td>\n",
       "      <td>...</td>\n",
       "      <td>0.275487</td>\n",
       "      <td>0.259806</td>\n",
       "      <td>0.325708</td>\n",
       "      <td>0.610094</td>\n",
       "      <td>0.529301</td>\n",
       "      <td>0.344934</td>\n",
       "      <td>0.529301</td>\n",
       "      <td>0.187769</td>\n",
       "      <td>0.529301</td>\n",
       "      <td>A</td>\n",
       "    </tr>\n",
       "    <tr>\n",
       "      <th>1</th>\n",
       "      <td>0.461037</td>\n",
       "      <td>0.381020</td>\n",
       "      <td>0.461037</td>\n",
       "      <td>0.461037</td>\n",
       "      <td>0.461037</td>\n",
       "      <td>0.474204</td>\n",
       "      <td>0.309496</td>\n",
       "      <td>0.474204</td>\n",
       "      <td>0.474204</td>\n",
       "      <td>0.474204</td>\n",
       "      <td>...</td>\n",
       "      <td>0.176096</td>\n",
       "      <td>0.342771</td>\n",
       "      <td>0.328040</td>\n",
       "      <td>0.607381</td>\n",
       "      <td>0.528126</td>\n",
       "      <td>0.362129</td>\n",
       "      <td>0.528126</td>\n",
       "      <td>0.163816</td>\n",
       "      <td>0.528126</td>\n",
       "      <td>A</td>\n",
       "    </tr>\n",
       "    <tr>\n",
       "      <th>2</th>\n",
       "      <td>0.476168</td>\n",
       "      <td>0.297152</td>\n",
       "      <td>0.476168</td>\n",
       "      <td>0.476168</td>\n",
       "      <td>0.476168</td>\n",
       "      <td>0.468983</td>\n",
       "      <td>0.339903</td>\n",
       "      <td>0.468983</td>\n",
       "      <td>0.468983</td>\n",
       "      <td>0.468983</td>\n",
       "      <td>...</td>\n",
       "      <td>0.192507</td>\n",
       "      <td>0.172882</td>\n",
       "      <td>0.248215</td>\n",
       "      <td>0.657601</td>\n",
       "      <td>0.495155</td>\n",
       "      <td>0.490243</td>\n",
       "      <td>0.495155</td>\n",
       "      <td>0.138499</td>\n",
       "      <td>0.495155</td>\n",
       "      <td>A</td>\n",
       "    </tr>\n",
       "    <tr>\n",
       "      <th>3</th>\n",
       "      <td>0.452136</td>\n",
       "      <td>0.421633</td>\n",
       "      <td>0.452136</td>\n",
       "      <td>0.452136</td>\n",
       "      <td>0.452136</td>\n",
       "      <td>0.477860</td>\n",
       "      <td>0.323110</td>\n",
       "      <td>0.477860</td>\n",
       "      <td>0.453625</td>\n",
       "      <td>0.477860</td>\n",
       "      <td>...</td>\n",
       "      <td>0.131040</td>\n",
       "      <td>0.248890</td>\n",
       "      <td>0.292622</td>\n",
       "      <td>0.643750</td>\n",
       "      <td>0.543960</td>\n",
       "      <td>0.282170</td>\n",
       "      <td>0.543960</td>\n",
       "      <td>0.165141</td>\n",
       "      <td>0.543960</td>\n",
       "      <td>A</td>\n",
       "    </tr>\n",
       "    <tr>\n",
       "      <th>4</th>\n",
       "      <td>0.448749</td>\n",
       "      <td>0.216856</td>\n",
       "      <td>0.498870</td>\n",
       "      <td>0.498870</td>\n",
       "      <td>0.498870</td>\n",
       "      <td>0.494084</td>\n",
       "      <td>0.136336</td>\n",
       "      <td>0.494084</td>\n",
       "      <td>0.494084</td>\n",
       "      <td>0.494084</td>\n",
       "      <td>...</td>\n",
       "      <td>0.370285</td>\n",
       "      <td>0.216672</td>\n",
       "      <td>0.108728</td>\n",
       "      <td>0.631591</td>\n",
       "      <td>0.506163</td>\n",
       "      <td>0.353024</td>\n",
       "      <td>0.506163</td>\n",
       "      <td>0.318931</td>\n",
       "      <td>0.506163</td>\n",
       "      <td>A</td>\n",
       "    </tr>\n",
       "  </tbody>\n",
       "</table>\n",
       "<p>5 rows × 501 columns</p>\n",
       "</div>"
      ],
      "text/plain": [
       "        0         1         2         3         4         5         6    \\\n",
       "0  0.438496  0.312646  0.484813  0.484813  0.484813  0.473982  0.310852   \n",
       "1  0.461037  0.381020  0.461037  0.461037  0.461037  0.474204  0.309496   \n",
       "2  0.476168  0.297152  0.476168  0.476168  0.476168  0.468983  0.339903   \n",
       "3  0.452136  0.421633  0.452136  0.452136  0.452136  0.477860  0.323110   \n",
       "4  0.448749  0.216856  0.498870  0.498870  0.498870  0.494084  0.136336   \n",
       "\n",
       "        7         8         9   ...        491       492       493       494  \\\n",
       "0  0.473982  0.473982  0.473982 ...   0.275487  0.259806  0.325708  0.610094   \n",
       "1  0.474204  0.474204  0.474204 ...   0.176096  0.342771  0.328040  0.607381   \n",
       "2  0.468983  0.468983  0.468983 ...   0.192507  0.172882  0.248215  0.657601   \n",
       "3  0.477860  0.453625  0.477860 ...   0.131040  0.248890  0.292622  0.643750   \n",
       "4  0.494084  0.494084  0.494084 ...   0.370285  0.216672  0.108728  0.631591   \n",
       "\n",
       "        495       496       497       498       499  500  \n",
       "0  0.529301  0.344934  0.529301  0.187769  0.529301    A  \n",
       "1  0.528126  0.362129  0.528126  0.163816  0.528126    A  \n",
       "2  0.495155  0.490243  0.495155  0.138499  0.495155    A  \n",
       "3  0.543960  0.282170  0.543960  0.165141  0.543960    A  \n",
       "4  0.506163  0.353024  0.506163  0.318931  0.506163    A  \n",
       "\n",
       "[5 rows x 501 columns]"
      ]
     },
     "execution_count": 9,
     "metadata": {},
     "output_type": "execute_result"
    }
   ],
   "source": [
    "df.head()"
   ]
  },
  {
   "cell_type": "code",
   "execution_count": 11,
   "metadata": {},
   "outputs": [
    {
     "name": "stdout",
     "output_type": "stream",
     "text": [
      "lr started\n",
      "accuracy score for  Logistic regression 0.773920817369\n",
      "precision_score for  Logistic regression 0.772837862222\n",
      "f1 score for  Logistic regression 0.773279467607\n",
      "recall score for  Logistic regression 0.774570135268\n"
     ]
    }
   ],
   "source": [
    "#predict_svm(X_train, X_test,y_train, y_test)\n",
    "#predict_knn(X_train, X_test,y_train, y_test)\n",
    "#predict_lr(X_train, X_test,y_train, y_test)\n",
    "#predict_nb(X_train, X_test,y_train, y_test)\n",
    "#predict_mlp(X_train, X_test,y_train, y_test)"
   ]
  },
  {
   "cell_type": "code",
   "execution_count": 12,
   "metadata": {},
   "outputs": [
    {
     "name": "stdout",
     "output_type": "stream",
     "text": [
      "nb started\n",
      "accuracy score for  Naive Bayes 0.389374201788\n",
      "precision_score for  Naive Bayes 0.449866331652\n",
      "f1 score for  Naive Bayes 0.386402725481\n",
      "recall score for  Naive Bayes 0.389729568873\n"
     ]
    }
   ],
   "source": [
    "predict_nb(X_train, X_test,y_train, y_test)"
   ]
  },
  {
   "cell_type": "code",
   "execution_count": 12,
   "metadata": {},
   "outputs": [
    {
     "name": "stdout",
     "output_type": "stream",
     "text": [
      "knn started\n",
      "accuracy score for  K nearest neighbours 0.93711366539\n",
      "precision_score for  K nearest neighbours 0.939491245089\n",
      "f1 score for  K nearest neighbours 0.937678086125\n",
      "recall score for  K nearest neighbours 0.937150765914\n"
     ]
    }
   ],
   "source": [
    "predict_knn(X_train, X_test,y_train, y_test)"
   ]
  },
  {
   "cell_type": "code",
   "execution_count": 10,
   "metadata": {},
   "outputs": [
    {
     "name": "stdout",
     "output_type": "stream",
     "text": [
      "mlp started\n",
      "accuracy score for  MLP classifier 0.799157088123\n",
      "precision_score for  MLP classifier 0.816181185341\n",
      "f1 score for  MLP classifier 0.801748534791\n",
      "recall score for  MLP classifier 0.799613393972\n"
     ]
    }
   ],
   "source": [
    "predict_mlp(X_train, X_test,y_train, y_test)"
   ]
  },
  {
   "cell_type": "code",
   "execution_count": 11,
   "metadata": {},
   "outputs": [
    {
     "name": "stdout",
     "output_type": "stream",
     "text": [
      "svm started\n",
      "accuracy score for  SVM 0.87404853129\n",
      "precision_score for  SVM 0.874661838883\n",
      "f1 score for  SVM 0.874007523918\n",
      "recall score for  SVM 0.874031600753\n"
     ]
    }
   ],
   "source": [
    "predict_svm(X_train, X_test,y_train, y_test)"
   ]
  },
  {
   "cell_type": "code",
   "execution_count": 1,
   "metadata": {},
   "outputs": [],
   "source": []
  },
  {
   "cell_type": "code",
   "execution_count": null,
   "metadata": {},
   "outputs": [],
   "source": [
    "print(classification_report(y_test,predictions))\n",
    "print(confusion_matrix(y_test,predictions))"
   ]
  }
 ],
 "metadata": {
  "kernelspec": {
   "display_name": "Python 3",
   "language": "python",
   "name": "python3"
  },
  "language_info": {
   "codemirror_mode": {
    "name": "ipython",
    "version": 3
   },
   "file_extension": ".py",
   "mimetype": "text/x-python",
   "name": "python",
   "nbconvert_exporter": "python",
   "pygments_lexer": "ipython3",
   "version": "3.6.7"
  }
 },
 "nbformat": 4,
 "nbformat_minor": 2
}
