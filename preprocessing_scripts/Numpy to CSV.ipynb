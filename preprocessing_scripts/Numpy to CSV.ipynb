{
 "cells": [
  {
   "cell_type": "code",
   "execution_count": 1,
   "metadata": {},
   "outputs": [],
   "source": [
    "import os\n",
    "import numpy as np\n",
    "import pandas as pd"
   ]
  },
  {
   "cell_type": "code",
   "execution_count": 2,
   "metadata": {},
   "outputs": [],
   "source": [
    "npy_path='./pca_outputs/'\n",
    "number_features=224"
   ]
  },
  {
   "cell_type": "code",
   "execution_count": 3,
   "metadata": {},
   "outputs": [],
   "source": [
    "pca_df=pd.DataFrame()"
   ]
  },
  {
   "cell_type": "code",
   "execution_count": 4,
   "metadata": {},
   "outputs": [
    {
     "name": "stdout",
     "output_type": "stream",
     "text": [
      "---------------------------------------------\n",
      "H rendering commenced\n",
      "---------------------------------------------\n",
      "P rendering commenced\n",
      "---------------------------------------------\n",
      "O rendering commenced\n",
      "---------------------------------------------\n",
      "X rendering commenced\n",
      "---------------------------------------------\n",
      "E rendering commenced\n",
      "---------------------------------------------\n",
      "B rendering commenced\n",
      "---------------------------------------------\n",
      "V rendering commenced\n",
      "---------------------------------------------\n",
      "I rendering commenced\n",
      "---------------------------------------------\n",
      "G rendering commenced\n",
      "---------------------------------------------\n",
      "R rendering commenced\n",
      "---------------------------------------------\n",
      "A rendering commenced\n",
      "---------------------------------------------\n",
      "W rendering commenced\n",
      "---------------------------------------------\n",
      "N rendering commenced\n",
      "---------------------------------------------\n",
      "del rendering commenced\n",
      "---------------------------------------------\n",
      "K rendering commenced\n",
      "---------------------------------------------\n",
      "C rendering commenced\n",
      "---------------------------------------------\n",
      "Z rendering commenced\n",
      "---------------------------------------------\n",
      "F rendering commenced\n",
      "---------------------------------------------\n",
      "L rendering commenced\n",
      "---------------------------------------------\n",
      "J rendering commenced\n",
      "---------------------------------------------\n",
      "S rendering commenced\n",
      "---------------------------------------------\n",
      "space rendering commenced\n",
      "---------------------------------------------\n",
      "Q rendering commenced\n",
      "---------------------------------------------\n",
      "M rendering commenced\n",
      "---------------------------------------------\n",
      "nothing rendering commenced\n",
      "---------------------------------------------\n",
      "T rendering commenced\n",
      "---------------------------------------------\n",
      "U rendering commenced\n",
      "---------------------------------------------\n",
      "Y rendering commenced\n",
      "---------------------------------------------\n",
      "D rendering commenced\n"
     ]
    }
   ],
   "source": [
    "cols=list(range(0,number_features))\n",
    "for npy_name in os.listdir(npy_path):\n",
    "    current_label=str(npy_name).split('_')\n",
    "    print('---------------------------------------------')\n",
    "    print(current_label[0], 'rendering commenced')\n",
    "    current_features=np.load(npy_path+npy_name)\n",
    "    current_df=pd.DataFrame(data=current_features,columns=cols)\n",
    "    current_df['label']=[str(current_label[0])]*current_features.shape[0]\n",
    "    pca_df=pca_df.append(current_df)"
   ]
  },
  {
   "cell_type": "code",
   "execution_count": 5,
   "metadata": {},
   "outputs": [],
   "source": [
    "pca_df.to_csv('./pca_df.csv',sep='\\t',index=False)"
   ]
  }
 ],
 "metadata": {
  "kernelspec": {
   "display_name": "Python 3",
   "language": "python",
   "name": "python3"
  },
  "language_info": {
   "codemirror_mode": {
    "name": "ipython",
    "version": 3
   },
   "file_extension": ".py",
   "mimetype": "text/x-python",
   "name": "python",
   "nbconvert_exporter": "python",
   "pygments_lexer": "ipython3",
   "version": "3.6.5"
  }
 },
 "nbformat": 4,
 "nbformat_minor": 2
}
