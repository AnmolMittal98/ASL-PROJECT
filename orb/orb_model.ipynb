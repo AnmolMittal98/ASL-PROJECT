{
 "cells": [
  {
   "cell_type": "code",
   "execution_count": null,
   "metadata": {
    "collapsed": true
   },
   "outputs": [],
   "source": []
  },
  {
   "cell_type": "code",
   "execution_count": null,
   "metadata": {
    "collapsed": true
   },
   "outputs": [],
   "source": []
  },
  {
   "cell_type": "code",
   "execution_count": 7,
   "metadata": {
    "collapsed": true
   },
   "outputs": [],
   "source": [
    "import time\n",
    "import pandas as pd\n",
    "\n",
    "from sklearn.svm import SVC\n",
    "from sklearn.naive_bayes import GaussianNB as nb\n",
    "from sklearn.naive_bayes import MultinomialNB as mnb\n",
    "from sklearn.naive_bayes import BernoulliNB as bnb\n",
    "from sklearn.neighbors import KNeighborsClassifier as knn\n",
    "from sklearn.linear_model import LogisticRegression as lr\n",
    "from sklearn.neural_network import MLPClassifier as mlp\n",
    "from sklearn.model_selection import train_test_split\n",
    "import numpy as np\n",
    "import pickle\n",
    "import sklearn.metrics as sm\n",
    "\n",
    "\n",
    "def calc_accuracy(method,label_test,pred):\n",
    "    print(\"accuracy score for \",method,sm.accuracy_score(label_test,pred))\n",
    "    print(\"precision_score for \",method,sm.precision_score(label_test,pred,average='macro'))\n",
    "    print(\"f1 score for \",method,sm.f1_score(label_test,pred,average='macro'))\n",
    "    print(\"recall score for \",method,sm.recall_score(label_test,pred,average='macro'))\n",
    "\n",
    "def predict_svm(X_train, X_test, y_train, y_test):\n",
    "    svc=SVC(kernel='linear') \n",
    "    print(\"svm started\")\n",
    "    svc.fit(X_train,y_train)\n",
    "    \n",
    "    #filename = 'svm_model.sav'\n",
    "    #pickle.dump(svc, open(filename, 'wb'))\n",
    "    \n",
    "    y_pred=svc.predict(X_test)\n",
    "    calc_accuracy(\"SVM\",y_test,y_pred)\n",
    "\n",
    "def predict_lr(X_train, X_test, y_train, y_test):\n",
    "    clf = lr()\n",
    "    print(\"lr started\")\n",
    "    clf.fit(X_train,y_train)\n",
    "    \n",
    "    #filename = 'lr_model.sav'\n",
    "    #pickle.dump(clf, open(filename, 'wb'))\n",
    "    \n",
    "    y_pred=clf.predict(X_test)\n",
    "    calc_accuracy(\"Logistic regression\",y_test,y_pred)\n",
    "\n",
    "\n",
    "def predict_nb(X_train, X_test, y_train, y_test):\n",
    "    clf = nb()\n",
    "    print(\"nb started\")\n",
    "    clf.fit(X_train,y_train)\n",
    "    \n",
    "    #filename = 'nb_model.sav'\n",
    "    #pickle.dump(clf, open(filename, 'wb'))\n",
    "    \n",
    "    y_pred=clf.predict(X_test)\n",
    "    calc_accuracy(\"Naive Bayes\",y_test,y_pred)\n",
    "\n",
    "\n",
    "def predict_knn(X_train, X_test, y_train, y_test):\n",
    "    clf=knn(n_neighbors=8)\n",
    "    print(\"knn started\")\n",
    "    clf.fit(X_train,y_train)\n",
    "    \n",
    "    #filename = 'knn_model.sav'\n",
    "    #pickle.dump(clf, open(filename, 'wb'))\n",
    "    \n",
    "    y_pred=clf.predict(X_test)\n",
    "    calc_accuracy(\"K nearest neighbours\",y_test,y_pred)\n",
    "\n",
    "def predict_mlp(X_train, X_test, y_train, y_test):\n",
    "    clf=mlp()\n",
    "    print(\"mlp started\")\n",
    "    clf.fit(X_train,y_train)\n",
    "    \n",
    "    #filename = 'mlp_model.sav'\n",
    "    #pickle.dump(clf, open(filename, 'wb'))\n",
    "    \n",
    "    y_pred=clf.predict(X_test)\n",
    "    calc_accuracy(\"MLP classifier\",y_test,y_pred)\n"
   ]
  },
  {
   "cell_type": "code",
   "execution_count": 4,
   "metadata": {
    "collapsed": true
   },
   "outputs": [],
   "source": [
    "\n",
    "df = pd.read_csv(\"asl_dataset_orb.csv\", sep=',',header=None)\n",
    "X = df.iloc[:, :-1]\n",
    "y = df.iloc[:,-1]\n",
    "\n",
    "X_train, X_test, y_train, y_test = train_test_split(X, y, test_size=0.45)\n"
   ]
  },
  {
   "cell_type": "code",
   "execution_count": 5,
   "metadata": {},
   "outputs": [
    {
     "data": {
      "text/html": [
       "<div>\n",
       "<style>\n",
       "    .dataframe thead tr:only-child th {\n",
       "        text-align: right;\n",
       "    }\n",
       "\n",
       "    .dataframe thead th {\n",
       "        text-align: left;\n",
       "    }\n",
       "\n",
       "    .dataframe tbody tr th {\n",
       "        vertical-align: top;\n",
       "    }\n",
       "</style>\n",
       "<table border=\"1\" class=\"dataframe\">\n",
       "  <thead>\n",
       "    <tr style=\"text-align: right;\">\n",
       "      <th></th>\n",
       "      <th>0</th>\n",
       "      <th>1</th>\n",
       "      <th>2</th>\n",
       "      <th>3</th>\n",
       "      <th>4</th>\n",
       "      <th>5</th>\n",
       "      <th>6</th>\n",
       "      <th>7</th>\n",
       "      <th>8</th>\n",
       "      <th>9</th>\n",
       "      <th>...</th>\n",
       "      <th>141</th>\n",
       "      <th>142</th>\n",
       "      <th>143</th>\n",
       "      <th>144</th>\n",
       "      <th>145</th>\n",
       "      <th>146</th>\n",
       "      <th>147</th>\n",
       "      <th>148</th>\n",
       "      <th>149</th>\n",
       "      <th>150</th>\n",
       "    </tr>\n",
       "  </thead>\n",
       "  <tbody>\n",
       "    <tr>\n",
       "      <th>0</th>\n",
       "      <td>6</td>\n",
       "      <td>0</td>\n",
       "      <td>6</td>\n",
       "      <td>0</td>\n",
       "      <td>3</td>\n",
       "      <td>4</td>\n",
       "      <td>0</td>\n",
       "      <td>1</td>\n",
       "      <td>9</td>\n",
       "      <td>1</td>\n",
       "      <td>...</td>\n",
       "      <td>1</td>\n",
       "      <td>0</td>\n",
       "      <td>1</td>\n",
       "      <td>0</td>\n",
       "      <td>1</td>\n",
       "      <td>0</td>\n",
       "      <td>0</td>\n",
       "      <td>2</td>\n",
       "      <td>0</td>\n",
       "      <td>0</td>\n",
       "    </tr>\n",
       "    <tr>\n",
       "      <th>1</th>\n",
       "      <td>9</td>\n",
       "      <td>0</td>\n",
       "      <td>9</td>\n",
       "      <td>0</td>\n",
       "      <td>8</td>\n",
       "      <td>1</td>\n",
       "      <td>0</td>\n",
       "      <td>1</td>\n",
       "      <td>8</td>\n",
       "      <td>3</td>\n",
       "      <td>...</td>\n",
       "      <td>1</td>\n",
       "      <td>0</td>\n",
       "      <td>0</td>\n",
       "      <td>0</td>\n",
       "      <td>1</td>\n",
       "      <td>0</td>\n",
       "      <td>0</td>\n",
       "      <td>1</td>\n",
       "      <td>0</td>\n",
       "      <td>0</td>\n",
       "    </tr>\n",
       "    <tr>\n",
       "      <th>2</th>\n",
       "      <td>3</td>\n",
       "      <td>0</td>\n",
       "      <td>1</td>\n",
       "      <td>0</td>\n",
       "      <td>2</td>\n",
       "      <td>1</td>\n",
       "      <td>0</td>\n",
       "      <td>6</td>\n",
       "      <td>4</td>\n",
       "      <td>3</td>\n",
       "      <td>...</td>\n",
       "      <td>0</td>\n",
       "      <td>0</td>\n",
       "      <td>0</td>\n",
       "      <td>0</td>\n",
       "      <td>0</td>\n",
       "      <td>0</td>\n",
       "      <td>0</td>\n",
       "      <td>0</td>\n",
       "      <td>0</td>\n",
       "      <td>0</td>\n",
       "    </tr>\n",
       "    <tr>\n",
       "      <th>3</th>\n",
       "      <td>0</td>\n",
       "      <td>0</td>\n",
       "      <td>0</td>\n",
       "      <td>2</td>\n",
       "      <td>0</td>\n",
       "      <td>0</td>\n",
       "      <td>6</td>\n",
       "      <td>2</td>\n",
       "      <td>0</td>\n",
       "      <td>0</td>\n",
       "      <td>...</td>\n",
       "      <td>0</td>\n",
       "      <td>2</td>\n",
       "      <td>1</td>\n",
       "      <td>2</td>\n",
       "      <td>0</td>\n",
       "      <td>6</td>\n",
       "      <td>6</td>\n",
       "      <td>0</td>\n",
       "      <td>0</td>\n",
       "      <td>0</td>\n",
       "    </tr>\n",
       "    <tr>\n",
       "      <th>4</th>\n",
       "      <td>2</td>\n",
       "      <td>0</td>\n",
       "      <td>4</td>\n",
       "      <td>0</td>\n",
       "      <td>0</td>\n",
       "      <td>1</td>\n",
       "      <td>2</td>\n",
       "      <td>2</td>\n",
       "      <td>0</td>\n",
       "      <td>1</td>\n",
       "      <td>...</td>\n",
       "      <td>1</td>\n",
       "      <td>0</td>\n",
       "      <td>0</td>\n",
       "      <td>2</td>\n",
       "      <td>3</td>\n",
       "      <td>2</td>\n",
       "      <td>0</td>\n",
       "      <td>1</td>\n",
       "      <td>6</td>\n",
       "      <td>0</td>\n",
       "    </tr>\n",
       "  </tbody>\n",
       "</table>\n",
       "<p>5 rows × 151 columns</p>\n",
       "</div>"
      ],
      "text/plain": [
       "   0    1    2    3    4    5    6    7    8    9   ...   141  142  143  144  \\\n",
       "0    6    0    6    0    3    4    0    1    9    1 ...     1    0    1    0   \n",
       "1    9    0    9    0    8    1    0    1    8    3 ...     1    0    0    0   \n",
       "2    3    0    1    0    2    1    0    6    4    3 ...     0    0    0    0   \n",
       "3    0    0    0    2    0    0    6    2    0    0 ...     0    2    1    2   \n",
       "4    2    0    4    0    0    1    2    2    0    1 ...     1    0    0    2   \n",
       "\n",
       "   145  146  147  148  149  150  \n",
       "0    1    0    0    2    0    0  \n",
       "1    1    0    0    1    0    0  \n",
       "2    0    0    0    0    0    0  \n",
       "3    0    6    6    0    0    0  \n",
       "4    3    2    0    1    6    0  \n",
       "\n",
       "[5 rows x 151 columns]"
      ]
     },
     "execution_count": 5,
     "metadata": {},
     "output_type": "execute_result"
    }
   ],
   "source": [
    "df.head()"
   ]
  },
  {
   "cell_type": "code",
   "execution_count": 12,
   "metadata": {},
   "outputs": [
    {
     "name": "stdout",
     "output_type": "stream",
     "text": [
      "svm started\n",
      "accuracy score for  SVM 0.8525109765919305\n",
      "precision_score for  SVM 0.85381742136407\n",
      "f1 score for  SVM 0.8534345160139483\n",
      "recall score for  SVM 0.8544197419782681\n",
      "knn started\n",
      "accuracy score for  K nearest neighbours 0.9596788859733444\n",
      "precision_score for  K nearest neighbours 0.9595805413416535\n",
      "f1 score for  K nearest neighbours 0.9571984385380874\n",
      "recall score for  K nearest neighbours 0.9603804244128767\n",
      "lr started\n",
      "accuracy score for  Logistic regression 0.8447948871164688\n",
      "precision_score for  Logistic regression 0.8445991054538576\n",
      "f1 score for  Logistic regression 0.8454075186678485\n",
      "recall score for  Logistic regression 0.8467212803658964\n",
      "nb started\n",
      "accuracy score for  Naive Bayes 0.7223246992803513\n",
      "precision_score for  Naive Bayes 0.7511409286967207\n",
      "f1 score for  Naive Bayes 0.7263522351976367\n",
      "recall score for  Naive Bayes 0.7243850813664504\n",
      "mlp started\n",
      "accuracy score for  MLP classifier 0.961419552622691\n",
      "precision_score for  MLP classifier 0.9613881542490446\n",
      "f1 score for  MLP classifier 0.9613882121057853\n",
      "recall score for  MLP classifier 0.961530993986277\n"
     ]
    }
   ],
   "source": [
    "#predict_svm(X_train, X_test,y_train, y_test)\n",
    "#predict_knn(X_train, X_test,y_train, y_test)\n",
    "#predict_lr(X_train, X_test,y_train, y_test)\n",
    "#predict_nb(X_train, X_test,y_train, y_test)\n",
    "#predict_mlp(X_train, X_test,y_train, y_test)\n"
   ]
  },
  {
   "cell_type": "code",
   "execution_count": 12,
   "metadata": {},
   "outputs": [
    {
     "name": "stdout",
     "output_type": "stream",
     "text": [
      "lr started\n",
      "accuracy score for  Logistic regression 0.8459639915824478\n",
      "precision_score for  Logistic regression 0.845931949518512\n",
      "f1 score for  Logistic regression 0.846800724655216\n",
      "recall score for  Logistic regression 0.8480992426675107\n"
     ]
    }
   ],
   "source": [
    "predict_lr(X_train, X_test,y_train, y_test)"
   ]
  },
  {
   "cell_type": "code",
   "execution_count": 1,
   "metadata": {
    "collapsed": true
   },
   "outputs": [],
   "source": [
    "from sklearn.ensemble import RandomForestClassifier\n"
   ]
  },
  {
   "cell_type": "code",
   "execution_count": 5,
   "metadata": {
    "collapsed": true
   },
   "outputs": [],
   "source": [
    "def predict_rf(X_train, X_test, y_train, y_test):\n",
    "    rtree=RandomForestClassifier(n_estimators=200)\n",
    "    print(\"rf started\")\n",
    "    rtree.fit(X_train,y_train)\n",
    "    y_pred=rtree.predict(X_test)\n",
    "    calc_accuracy(\"RF classifier\",y_test,y_pred)"
   ]
  },
  {
   "cell_type": "code",
   "execution_count": 6,
   "metadata": {},
   "outputs": [
    {
     "name": "stdout",
     "output_type": "stream",
     "text": [
      "rf started\n",
      "accuracy score for  RF classifier 0.9269699410251747\n",
      "precision_score for  RF classifier 0.927462720984915\n",
      "f1 score for  RF classifier 0.9273709982169112\n",
      "recall score for  RF classifier 0.9281534565577367\n"
     ]
    }
   ],
   "source": [
    "predict_rf(X_train, X_test,y_train, y_test)"
   ]
  },
  {
   "cell_type": "code",
   "execution_count": 8,
   "metadata": {
    "collapsed": true
   },
   "outputs": [],
   "source": [
    "from sklearn.linear_model import SGDClassifier as SGD"
   ]
  },
  {
   "cell_type": "code",
   "execution_count": 13,
   "metadata": {
    "collapsed": true
   },
   "outputs": [],
   "source": [
    "def predict_sgd(X_train, X_test, y_train, y_test):\n",
    "    clf = SGD(loss='log')\n",
    "    print(\"sgd started\")\n",
    "    clf.fit(X_train,y_train)\n",
    "    \n",
    "    #filename = 'nb_model.sav'\n",
    "    #pickle.dump(clf, open(filename, 'wb'))\n",
    "    \n",
    "    y_pred=clf.predict(X_test)\n",
    "    calc_accuracy(\"SGD\",y_test,y_pred)"
   ]
  },
  {
   "cell_type": "code",
   "execution_count": 14,
   "metadata": {},
   "outputs": [
    {
     "name": "stderr",
     "output_type": "stream",
     "text": [
      "C:\\Users\\Savitoj\\Anaconda3\\lib\\site-packages\\sklearn\\linear_model\\stochastic_gradient.py:84: FutureWarning: max_iter and tol parameters have been added in <class 'sklearn.linear_model.stochastic_gradient.SGDClassifier'> in 0.19. If both are left unset, they default to max_iter=5 and tol=None. If tol is not None, max_iter defaults to max_iter=1000. From 0.21, default max_iter will be 1000, and default tol will be 1e-3.\n",
      "  \"and default tol will be 1e-3.\" % type(self), FutureWarning)\n"
     ]
    },
    {
     "name": "stdout",
     "output_type": "stream",
     "text": [
      "sgd started\n",
      "accuracy score for  SGD 0.7718687485386194\n",
      "precision_score for  SGD 0.8146509524434749\n",
      "f1 score for  SGD 0.7776519538639254\n",
      "recall score for  SGD 0.7754874479429061\n"
     ]
    }
   ],
   "source": [
    "predict_sgd(X_train, X_test, y_train, y_test)"
   ]
  },
  {
   "cell_type": "code",
   "execution_count": 3,
   "metadata": {
    "collapsed": true
   },
   "outputs": [],
   "source": [
    "def predict_mnb(X_train, X_test, y_train, y_test):\n",
    "    clf = mnb()\n",
    "    print(\"mnb started\")\n",
    "    clf.fit(X_train,y_train)\n",
    "    \n",
    "    #filename = 'nb_model.sav'\n",
    "    #pickle.dump(clf, open(filename, 'wb'))\n",
    "    \n",
    "    y_pred=clf.predict(X_test)\n",
    "    calc_accuracy(\"MNB\",y_test,y_pred)"
   ]
  },
  {
   "cell_type": "code",
   "execution_count": 6,
   "metadata": {},
   "outputs": [
    {
     "name": "stdout",
     "output_type": "stream",
     "text": [
      "mnb started\n",
      "accuracy score for  MNB 0.7858200618326362\n",
      "precision_score for  MNB 0.8027619019429938\n",
      "f1 score for  MNB 0.7886405841600639\n",
      "recall score for  MNB 0.7828850144424185\n"
     ]
    }
   ],
   "source": [
    "predict_mnb(X_train, X_test, y_train, y_test)"
   ]
  },
  {
   "cell_type": "code",
   "execution_count": 8,
   "metadata": {
    "collapsed": true
   },
   "outputs": [],
   "source": [
    "def predict_bnb(X_train, X_test, y_train, y_test):\n",
    "    clf = bnb()\n",
    "    print(\"bnb started\")\n",
    "    clf.fit(X_train,y_train)\n",
    "    \n",
    "    #filename = 'nb_model.sav'\n",
    "    #pickle.dump(clf, open(filename, 'wb'))\n",
    "    \n",
    "    y_pred=clf.predict(X_test)\n",
    "    calc_accuracy(\"BNB\",y_test,y_pred)"
   ]
  },
  {
   "cell_type": "code",
   "execution_count": 9,
   "metadata": {},
   "outputs": [
    {
     "name": "stdout",
     "output_type": "stream",
     "text": [
      "bnb started\n",
      "accuracy score for  BNB 0.6253669689018212\n",
      "precision_score for  BNB 0.7255378636449721\n",
      "f1 score for  BNB 0.6513226245646709\n",
      "recall score for  BNB 0.6289743320157843\n"
     ]
    }
   ],
   "source": [
    "predict_bnb(X_train, X_test, y_train, y_test)"
   ]
  },
  {
   "cell_type": "code",
   "execution_count": null,
   "metadata": {
    "collapsed": true
   },
   "outputs": [],
   "source": []
  }
 ],
 "metadata": {
  "kernelspec": {
   "display_name": "Python 3",
   "language": "python",
   "name": "python3"
  },
  "language_info": {
   "codemirror_mode": {
    "name": "ipython",
    "version": 3
   },
   "file_extension": ".py",
   "mimetype": "text/x-python",
   "name": "python",
   "nbconvert_exporter": "python",
   "pygments_lexer": "ipython3",
   "version": "3.6.2"
  }
 },
 "nbformat": 4,
 "nbformat_minor": 2
}
